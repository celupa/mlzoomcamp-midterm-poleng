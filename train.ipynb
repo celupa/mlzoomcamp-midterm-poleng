{
 "cells": [
  {
   "cell_type": "code",
   "execution_count": 1,
   "metadata": {},
   "outputs": [],
   "source": [
    "import pandas as pd\n",
    "import numpy as np\n",
    "\n",
    "from sklearn.model_selection import train_test_split\n",
    "from sklearn.feature_extraction import DictVectorizer \n",
    "from sklearn.metrics import roc_auc_score\n",
    "\n",
    "import xgboost as xgb\n",
    "\n",
    "import bentoml\n",
    "import pickle"
   ]
  },
  {
   "cell_type": "code",
   "execution_count": 2,
   "metadata": {},
   "outputs": [],
   "source": [
    "# custom_data corresponds to the final wrangle of the wvs data\n",
    "data = pd.read_parquet(\"misc/custom_wvs7_data.parquet\")\n",
    "\n",
    "# note: variable definitions available in \"misc/post_wrangle_variable_definitions.json\""
   ]
  },
  {
   "cell_type": "code",
   "execution_count": 3,
   "metadata": {},
   "outputs": [],
   "source": [
    "# get datasets\n",
    "df_train, df_test = train_test_split(data, test_size=0.2, random_state=23)"
   ]
  },
  {
   "cell_type": "code",
   "execution_count": 4,
   "metadata": {},
   "outputs": [],
   "source": [
    "# flag categorial variables\n",
    "nominal = [\"country\", \"mode\", \"settlement\", \"intprivacy\",\n",
    "           \"sex\", \"immigrant\", \"immigrant_mother\", \"immigrant_father\", \n",
    "           \"birth_country\", \"birth_country_mother\", \"birth_country_father\", \n",
    "           \"citizenship\", \"lives_with_parents\", \"marital_status\", \"employment\", \n",
    "           \"employment_spouse\", \"profession\", \"profession_spouse\", \n",
    "           \"profession_father\", \"employment_sector\", \"chief_earner\", \"savings\",\n",
    "           \"religion\"]\n",
    "\n",
    "# get best xbg params\n",
    "xgb_params = {\"eta\": 0.1, \n",
    "              \"max_depth\": 10, \n",
    "              \"min_child_weight\": 10,\n",
    "              \"objective\": \"binary:logistic\",\n",
    "              \"nthread\": -1,\n",
    "              \"seed\": 23,\n",
    "              \"verbosity\": 1,\n",
    "              \"eval_metric\": \"auc\",\n",
    "              \"scale_pos_weight\" : 10,\n",
    "              \"alpha\": 25}"
   ]
  },
  {
   "cell_type": "code",
   "execution_count": 5,
   "metadata": {},
   "outputs": [],
   "source": [
    "# get targets \n",
    "ytrain = df_train.political_engagement.values\n",
    "ytest = df_test.political_engagement.values\n",
    "x_train = df_train.drop(columns=\"political_engagement\")\n",
    "x_test = df_test.drop(columns=\"political_engagement\")\n",
    "\n",
    "# dummy encode nominal variables\n",
    "dv = DictVectorizer(sparse=False)\n",
    "x_train[nominal] = x_train[nominal].astype(str)\n",
    "x_test[nominal] = x_test[nominal].astype(str)\n",
    "train_dict = x_train.to_dict(orient=\"records\")\n",
    "test_dict = x_test.to_dict(orient=\"records\")\n",
    "xtrain = dv.fit_transform(train_dict)\n",
    "xtest = dv.transform(test_dict)\n",
    "features = dv.get_feature_names_out().tolist()\n",
    "\n",
    "# get xbg matrices\n",
    "xtrain = xgb.DMatrix(xtrain, label=ytrain)\n",
    "xtest = xgb.DMatrix(xtest, label=ytest)"
   ]
  },
  {
   "cell_type": "code",
   "execution_count": 6,
   "metadata": {},
   "outputs": [
    {
     "data": {
      "text/plain": [
       "0.7796568492162079"
      ]
     },
     "execution_count": 6,
     "metadata": {},
     "output_type": "execute_result"
    }
   ],
   "source": [
    "# train\n",
    "xgb_model = xgb.train(xgb_params, xtrain, num_boost_round=200)\n",
    "\n",
    "# predict\n",
    "ypred = xgb_model.predict(xtest)\n",
    "roc_auc_score(ytest, ypred)"
   ]
  },
  {
   "cell_type": "code",
   "execution_count": 7,
   "metadata": {},
   "outputs": [],
   "source": [
    "#############################commented for convenience##########################\n",
    "# # save model with bentoml\n",
    "# bentoml.xgboost.save_model(\"poleng_xgb_binary\", xgb_model,\n",
    "#                            custom_objects={\"dict_vectorizer\": dv,\n",
    "#                                            \"nominal_variables\": nominal})\n",
    "\n",
    "# # save model traditionally (easier to deploy on aws lambda)\n",
    "# with open(\"poleng_xgb.bin\", \"wb\") as fout:\n",
    "#     pickle.dump((dv, xgb_model), fout)\n",
    "#############################commented for convenience##########################"
   ]
  },
  {
   "cell_type": "code",
   "execution_count": null,
   "metadata": {},
   "outputs": [],
   "source": []
  }
 ],
 "metadata": {
  "kernelspec": {
   "display_name": "mlzoomcamp",
   "language": "python",
   "name": "python3"
  },
  "language_info": {
   "codemirror_mode": {
    "name": "ipython",
    "version": 3
   },
   "file_extension": ".py",
   "mimetype": "text/x-python",
   "name": "python",
   "nbconvert_exporter": "python",
   "pygments_lexer": "ipython3",
   "version": "3.10.13"
  }
 },
 "nbformat": 4,
 "nbformat_minor": 2
}
